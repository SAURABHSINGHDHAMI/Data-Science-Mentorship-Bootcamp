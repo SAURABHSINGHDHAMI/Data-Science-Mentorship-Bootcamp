{
 "cells": [
  {
   "cell_type": "markdown",
   "id": "bbf2e9c8",
   "metadata": {},
   "source": [
    "# Operators in Python"
   ]
  },
  {
   "cell_type": "markdown",
   "id": "ecac7f17",
   "metadata": {},
   "source": [
    "* Arithmetic Operators\n",
    "* Relational Operators\n",
    "* Logical Operators\n",
    "* Bitwise Operators\n",
    "* Assignment Operators\n",
    "* Membership Operators"
   ]
  },
  {
   "cell_type": "code",
   "execution_count": 3,
   "id": "ce7ce0e2",
   "metadata": {},
   "outputs": [
    {
     "name": "stdout",
     "output_type": "stream",
     "text": [
      "7\n",
      "3\n",
      "10\n",
      "2.5\n",
      "2\n",
      "1\n",
      "25\n"
     ]
    }
   ],
   "source": [
    "# Arithmetic Operators:\n",
    "\n",
    "print(5 + 2)\n",
    "\n",
    "print(5 - 2)\n",
    "\n",
    "print(5 * 2)\n",
    "\n",
    "print(5 / 2)\n",
    "\n",
    "print(5 // 2)\n",
    "\n",
    "print(5 % 2)\n",
    "\n",
    "print(5**2)"
   ]
  },
  {
   "cell_type": "code",
   "execution_count": 4,
   "id": "9fdf8559",
   "metadata": {},
   "outputs": [
    {
     "name": "stdout",
     "output_type": "stream",
     "text": [
      "True\n",
      "False\n",
      "True\n",
      "False\n",
      "True\n",
      "False\n"
     ]
    }
   ],
   "source": [
    "# Relational Operators:\n",
    "\n",
    "print(4 < 5)\n",
    "\n",
    "print(4 > 5)\n",
    "\n",
    "print(4 <= 5)\n",
    "\n",
    "print(4 >= 5)\n",
    "\n",
    "print(4 == 4)\n",
    "\n",
    "print(4 != 4)"
   ]
  },
  {
   "cell_type": "code",
   "execution_count": 5,
   "id": "2bf5c7da",
   "metadata": {},
   "outputs": [
    {
     "name": "stdout",
     "output_type": "stream",
     "text": [
      "0\n",
      "1\n",
      "False\n"
     ]
    }
   ],
   "source": [
    "# Logical Operators:\n",
    "\n",
    "print(1 and 0)\n",
    "\n",
    "print(1 or 0)\n",
    "\n",
    "print(not 1)"
   ]
  },
  {
   "cell_type": "code",
   "execution_count": 6,
   "id": "e9064f71",
   "metadata": {},
   "outputs": [
    {
     "name": "stdout",
     "output_type": "stream",
     "text": [
      "2\n",
      "3\n",
      "1\n",
      "-3\n",
      "0\n",
      "16\n"
     ]
    }
   ],
   "source": [
    "# Bitwise Operators:\n",
    "\n",
    "# bitwise and\n",
    "print(2 & 3)    # 0010\n",
    "                # 0011\n",
    "                # ----\n",
    "                # 0010 -> 2\n",
    "            \n",
    "# bitwise or\n",
    "print(2 | 3)    # 0010\n",
    "                # 0011\n",
    "                # ----\n",
    "                # 0011 -> 3\n",
    "\n",
    "# bitwise xor\n",
    "print(2 ^ 3)    # 0010\n",
    "                #  ^\n",
    "                # 0011\n",
    "                # ----\n",
    "                # 0001 -> 1\n",
    "            \n",
    "# bitwise not\n",
    "print(~2)       # ~0010\n",
    "                # ~(0010 + 0001) # The bitwise inversion of x is defined as -(x+1)\n",
    "                # ----\n",
    "                # ~(0011) -> -4\n",
    "\n",
    "# Shift Operators:\n",
    "\n",
    "# bitwise right shift\n",
    "print(2 >> 3)          # 0010\n",
    "                       # ----\n",
    "                       # 0000 -> 0\n",
    "\n",
    "# bitwise left shift\n",
    "print(2 << 3)          # 0010\n",
    "                       # ----\n",
    "                       # 10000 -> 16"
   ]
  },
  {
   "cell_type": "code",
   "execution_count": 7,
   "id": "66489980",
   "metadata": {},
   "outputs": [
    {
     "name": "stdout",
     "output_type": "stream",
     "text": [
      "4\n",
      "2\n",
      "4\n",
      "2.0\n"
     ]
    }
   ],
   "source": [
    "# Assignment Operators:\n",
    "\n",
    "a = 2\n",
    "\n",
    "a += 2 # a = a + 2\n",
    "print(a)\n",
    "\n",
    "a -= 2 # a = a - 2\n",
    "print(a)\n",
    "\n",
    "a *= 2 # a = a * 2\n",
    "print(a)\n",
    "\n",
    "a /= 2 # a = a / 2\n",
    "print(a)"
   ]
  },
  {
   "cell_type": "code",
   "execution_count": 8,
   "id": "0f9c065b",
   "metadata": {},
   "outputs": [
    {
     "name": "stdout",
     "output_type": "stream",
     "text": [
      "True\n",
      "False\n",
      "False\n"
     ]
    }
   ],
   "source": [
    "# Membership Operators\n",
    "\n",
    "# in/not in\n",
    "\n",
    "print('D' in 'Delhi')\n",
    "\n",
    "print('D' not in 'Delhi')\n",
    "\n",
    "print(1 in [2,3,4,5,6])"
   ]
  },
  {
   "cell_type": "code",
   "execution_count": 9,
   "id": "f71ebc7a",
   "metadata": {},
   "outputs": [
    {
     "name": "stdout",
     "output_type": "stream",
     "text": [
      "Enter a 3 digit number: 248\n",
      "14\n"
     ]
    }
   ],
   "source": [
    "# Program - Find the sum of 3 digit number entered by the user\n",
    "\n",
    "number = int(input(\"Enter a 3 digit number: \"))\n",
    "\n",
    "a = number % 10\n",
    "number = number // 10\n",
    "b = number % 10\n",
    "c = number // 10\n",
    "\n",
    "print(a + b + c)"
   ]
  },
  {
   "cell_type": "markdown",
   "id": "d2f6d57a",
   "metadata": {},
   "source": [
    "# If-else in Python"
   ]
  },
  {
   "cell_type": "code",
   "execution_count": 10,
   "id": "a6eb103d",
   "metadata": {},
   "outputs": [
    {
     "name": "stdout",
     "output_type": "stream",
     "text": [
      "enter email: saurabh@gmail.com\n",
      "enter password: 123\n",
      "Incorrect password\n",
      "enter password again: 12345\n",
      "beta tumse naa ho payega\n"
     ]
    }
   ],
   "source": [
    "# login program and indentation\n",
    "# email -> saurabh@gmail.com\n",
    "# password -> 1234\n",
    "\n",
    "email = input('enter email: ')\n",
    "password = input('enter password: ')\n",
    "\n",
    "if email == 'saurabh@gmail.com' and password == '1234':\n",
    "    print('Welcome')\n",
    "elif email == 'saurabh@gmail.com' and password != '1234':\n",
    "    print('Incorrect password')\n",
    "    password = input('enter password again: ')\n",
    "    if password == '1234':\n",
    "        print('Welcome, finally!')\n",
    "    else:\n",
    "        print('beta tumse naa ho payega')\n",
    "else:\n",
    "    print('Not correct')"
   ]
  },
  {
   "cell_type": "code",
   "execution_count": 11,
   "id": "23a537ea",
   "metadata": {},
   "outputs": [],
   "source": [
    "# if-else examples\n",
    "# 1. Find the min of 3 given numbers\n",
    "# 2. Menu Driven Program"
   ]
  },
  {
   "cell_type": "code",
   "execution_count": 12,
   "id": "5e74eb6b",
   "metadata": {},
   "outputs": [
    {
     "name": "stdout",
     "output_type": "stream",
     "text": [
      "first num: 2\n",
      "second num: 4\n",
      "third num: 8\n",
      "smallest is 2\n"
     ]
    }
   ],
   "source": [
    "# min of 3 number\n",
    "\n",
    "a = int(input('first num: '))\n",
    "b = int(input('second num: '))\n",
    "c = int(input('third num: '))\n",
    "\n",
    "if a<b and a<c:\n",
    "    print('smallest is', a)\n",
    "elif b<c:\n",
    "    print('smallest is', b)\n",
    "else:\n",
    "    print('smallest is', c)"
   ]
  },
  {
   "cell_type": "code",
   "execution_count": 13,
   "id": "6786e4ad",
   "metadata": {},
   "outputs": [
    {
     "name": "stdout",
     "output_type": "stream",
     "text": [
      "enter the 1st number: 5\n",
      "enter the 2nd number: 10\n",
      "enter the operation: \n",
      "0.5\n"
     ]
    }
   ],
   "source": [
    "# menu driven calculater\n",
    "\n",
    "fnum = int(input('enter the 1st number: '))\n",
    "snum = int(input('enter the 2nd number: '))\n",
    "\n",
    "op = input('enter the operation: ')\n",
    "\n",
    "if op == '+':\n",
    "    print(fnum + snum)\n",
    "elif op == '-':\n",
    "    print(fnum - snum)\n",
    "elif op == '*':\n",
    "    print(fnum * snum)\n",
    "else:\n",
    "    print(fnum / snum)"
   ]
  },
  {
   "cell_type": "code",
   "execution_count": 14,
   "id": "33b68290",
   "metadata": {},
   "outputs": [
    {
     "name": "stdout",
     "output_type": "stream",
     "text": [
      "\n",
      "Hi! how can I help you.\n",
      "1. Enter 1 for pin change\n",
      "2. Enter 2 for balance check\n",
      "3. Enter 3 for withdrawl\n",
      "4. Enter 4 for exit\n",
      "\n",
      "exit\n"
     ]
    }
   ],
   "source": [
    "menu = input(\"\"\"\n",
    "Hi! how can I help you.\n",
    "1. Enter 1 for pin change\n",
    "2. Enter 2 for balance check\n",
    "3. Enter 3 for withdrawl\n",
    "4. Enter 4 for exit\n",
    "\"\"\")\n",
    "\n",
    "if menu == '1':\n",
    "    print('pin change')\n",
    "elif menu == '2':\n",
    "    print('balance change')\n",
    "elif menu == '3':\n",
    "    print('withdrawl')\n",
    "else:\n",
    "    print('exit')"
   ]
  },
  {
   "cell_type": "markdown",
   "id": "e7d27f31",
   "metadata": {},
   "source": [
    "# Modules in Python"
   ]
  },
  {
   "cell_type": "markdown",
   "id": "5c249d0a",
   "metadata": {},
   "source": [
    "- math\n",
    "- keyword\n",
    "- constant\n",
    "- random"
   ]
  },
  {
   "cell_type": "code",
   "execution_count": 15,
   "id": "516d16bf",
   "metadata": {},
   "outputs": [
    {
     "data": {
      "text/plain": [
       "120"
      ]
     },
     "execution_count": 15,
     "metadata": {},
     "output_type": "execute_result"
    }
   ],
   "source": [
    "# math\n",
    "\n",
    "import math\n",
    "\n",
    "math.factorial(5)"
   ]
  },
  {
   "cell_type": "code",
   "execution_count": 16,
   "id": "2cc3644d",
   "metadata": {},
   "outputs": [
    {
     "data": {
      "text/plain": [
       "6"
      ]
     },
     "execution_count": 16,
     "metadata": {},
     "output_type": "execute_result"
    }
   ],
   "source": [
    "math.floor(6.8)"
   ]
  },
  {
   "cell_type": "code",
   "execution_count": 17,
   "id": "47bc15d9",
   "metadata": {},
   "outputs": [
    {
     "data": {
      "text/plain": [
       "14.0"
      ]
     },
     "execution_count": 17,
     "metadata": {},
     "output_type": "execute_result"
    }
   ],
   "source": [
    "math.sqrt(196)"
   ]
  },
  {
   "cell_type": "code",
   "execution_count": 18,
   "id": "876f6eab",
   "metadata": {},
   "outputs": [
    {
     "name": "stdout",
     "output_type": "stream",
     "text": [
      "['False', 'None', 'True', '__peg_parser__', 'and', 'as', 'assert', 'async', 'await', 'break', 'class', 'continue', 'def', 'del', 'elif', 'else', 'except', 'finally', 'for', 'from', 'global', 'if', 'import', 'in', 'is', 'lambda', 'nonlocal', 'not', 'or', 'pass', 'raise', 'return', 'try', 'while', 'with', 'yield']\n"
     ]
    }
   ],
   "source": [
    "# keyword\n",
    "\n",
    "import keyword\n",
    "\n",
    "print(keyword.kwlist)"
   ]
  },
  {
   "cell_type": "code",
   "execution_count": 19,
   "id": "6970e87f",
   "metadata": {},
   "outputs": [
    {
     "name": "stdout",
     "output_type": "stream",
     "text": [
      "50\n"
     ]
    }
   ],
   "source": [
    "# random\n",
    "\n",
    "import random\n",
    "\n",
    "print(random.randint(1, 100))"
   ]
  },
  {
   "cell_type": "code",
   "execution_count": 20,
   "id": "d36a68d2",
   "metadata": {},
   "outputs": [
    {
     "name": "stdout",
     "output_type": "stream",
     "text": [
      "2022-11-27 14:36:07.644130\n"
     ]
    }
   ],
   "source": [
    "# datetime\n",
    "\n",
    "import datetime\n",
    "\n",
    "print(datetime.datetime.now())"
   ]
  },
  {
   "cell_type": "code",
   "execution_count": 21,
   "id": "7475d23b",
   "metadata": {},
   "outputs": [
    {
     "name": "stdout",
     "output_type": "stream",
     "text": [
      "\n",
      "Please wait a moment while I gather a list of all available modules...\n",
      "\n"
     ]
    },
    {
     "name": "stderr",
     "output_type": "stream",
     "text": [
      "C:\\Users\\pc\\anaconda3\\lib\\site-packages\\IPython\\kernel\\__init__.py:12: ShimWarning: The `IPython.kernel` package has been deprecated since IPython 4.0.You should import from ipykernel or jupyter_client instead.\n",
      "  warn(\"The `IPython.kernel` package has been deprecated since IPython 4.0.\"\n",
      "C:\\Users\\pc\\anaconda3\\lib\\pkgutil.py:93: UserWarning: The numpy.array_api submodule is still experimental. See NEP 47.\n",
      "  __import__(info.name)\n"
     ]
    },
    {
     "name": "stdout",
     "output_type": "stream",
     "text": [
      "IPython             builtins            markupsafe          statistics\n",
      "OpenSSL             bz2                 marshal             storemagic\n",
      "PIL                 cProfile            math                string\n",
      "PyQt5               calendar            matplotlib_inline   stringprep\n",
      "__future__          certifi             menuinst            struct\n",
      "_abc                cffi                mimetypes           subprocess\n",
      "_aix_support        cgi                 mistune             sunau\n",
      "_ast                cgitb               mmap                symbol\n",
      "_asyncio            chardet             mmapfile            sympyprinting\n",
      "_bisect             charset_normalizer  mmsystem            symtable\n",
      "_blake2             chunk               modulefinder        sys\n",
      "_bootlocale         click               msilib              sysconfig\n",
      "_bootsubprocess     clyent              msvcrt              tabnanny\n",
      "_bz2                cmath               multiprocessing     tarfile\n",
      "_cffi_backend       cmd                 navigator_updater   telnetlib\n",
      "_codecs             code                nbclassic           tempfile\n",
      "_codecs_cn          codecs              nbclient            terminado\n",
      "_codecs_hk          codeop              nbconvert           test\n",
      "_codecs_iso2022     collections         nbformat            test_pycosat\n",
      "_codecs_jp          colorama            nest_asyncio        testpath\n",
      "_codecs_kr          colorsys            netbios             tests\n",
      "_codecs_tw          commctrl            netrc               textwrap\n",
      "_collections        compileall          nntplib             this\n",
      "_collections_abc    concurrent          notebook            threading\n",
      "_compat_pickle      conda               nt                  time\n",
      "_compression        conda_content_trust ntpath              timeit\n",
      "_contextvars        conda_env           ntsecuritycon       timer\n",
      "_csv                conda_package_handling nturl2path          tkinter\n",
      "_ctypes             conda_token         numbers             token\n",
      "_ctypes_test        conda_verify        numpy               tokenize\n",
      "_datetime           configparser        odbc                tornado\n",
      "_decimal            contextlib          olefile             tqdm\n",
      "_distutils_hack     contextvars         opcode              trace\n",
      "_elementtree        copy                operator            traceback\n",
      "_functools          copyreg             optparse            tracemalloc\n",
      "_hashlib            crypt               os                  traitlets\n",
      "_heapq              cryptography        packaging           tty\n",
      "_imp                csv                 pandas              turtle\n",
      "_io                 ctypes              pandocfilters       turtledemo\n",
      "_json               curses              parser              types\n",
      "_locale             cv2                 parso               typing\n",
      "_lsprof             cwp                 past                ujson\n",
      "_lzma               cythonmagic         pathlib             unicodedata\n",
      "_markupbase         dataclasses         pdb                 unittest\n",
      "_md5                datetime            perfmon             urllib\n",
      "_msi                dateutil            pickle              urllib3\n",
      "_multibytecodec     dbi                 pickleshare         uu\n",
      "_multiprocessing    dbm                 pickletools         uuid\n",
      "_nsis               dde                 pip                 venv\n",
      "_opcode             debugpy             pipes               warnings\n",
      "_operator           decimal             pkg_resources       wave\n",
      "_osx_support        decorator           pkgutil             wcwidth\n",
      "_overlapped         defusedxml          platform            weakref\n",
      "_peg_parser         difflib             plistlib            webbrowser\n",
      "_pickle             dis                 poplib              webencodings\n",
      "_py_abc             distutils           posixpath           werkzeug\n",
      "_pydecimal          doctest             pprint              wheel\n",
      "_pyio               email               profile             widgetsnbextension\n",
      "_pyrsistent_version encodings           prometheus_client   win2kras\n",
      "_queue              ensurepip           prompt_toolkit      win32api\n",
      "_random             entrypoints         pstats              win32clipboard\n",
      "_sha1               enum                psutil              win32com\n",
      "_sha256             errno               pty                 win32con\n",
      "_sha3               faulthandler        pvectorc            win32console\n",
      "_sha512             filecmp             py_compile          win32cred\n",
      "_signal             fileinput           pyclbr              win32crypt\n",
      "_sitebuiltins       flask               pycosat             win32cryptcon\n",
      "_socket             fnmatch             pycparser           win32event\n",
      "_sqlite3            formatter           pydoc               win32evtlog\n",
      "_sre                fractions           pydoc_data          win32evtlogutil\n",
      "_ssl                ftplib              pyexpat             win32file\n",
      "_stat               functools           pygments            win32gui\n",
      "_statistics         future              pyparsing           win32gui_struct\n",
      "_string             gc                  pyrsistent          win32help\n",
      "_strptime           genericpath         pythoncom           win32inet\n",
      "_struct             getopt              pytz                win32inetcon\n",
      "_symtable           getpass             pywin               win32job\n",
      "_system_path        gettext             pywin32_bootstrap   win32lz\n",
      "_testbuffer         glob                pywin32_testutil    win32net\n",
      "_testcapi           graphlib            pywintypes          win32netcon\n",
      "_testconsole        gzip                qtpy                win32pdh\n",
      "_testimportmultiple hashlib             queue               win32pdhquery\n",
      "_testinternalcapi   heapq               quopri              win32pdhutil\n",
      "_testmultiphase     hmac                random              win32pipe\n",
      "_thread             html                rasutil             win32print\n",
      "_threading_local    html5lib            re                  win32process\n",
      "_tkinter            http                regcheck            win32profile\n",
      "_tracemalloc        idlelib             regutil             win32ras\n",
      "_uuid               idna                repo_cli            win32rcparser\n",
      "_warnings           imaplib             reprlib             win32security\n",
      "_weakref            imghdr              requests            win32service\n",
      "_weakrefset         imp                 rlcompleter         win32serviceutil\n",
      "_win32sysloader     importlib           rmagic              win32timezone\n",
      "_winapi             importlib_metadata  ruamel_yaml         win32trace\n",
      "_winxptheme         inspect             runpy               win32traceutil\n",
      "_xxsubinterpreters  io                  sched               win32transaction\n",
      "_yaml               ipaddress           scripts             win32ts\n",
      "_zoneinfo           ipykernel           secrets             win32ui\n",
      "abc                 ipykernel_launcher  select              win32uiole\n",
      "adodbapi            ipython_genutils    selectors           win32verstamp\n",
      "afxres              ipywidgets          send2trash          win32wnet\n",
      "aifc                isapi               servicemanager      win_inet_pton\n",
      "anaconda_navigator  itertools           setuptools          wincertstore\n",
      "antigravity         itsdangerous        shelve              winerror\n",
      "anyio               jedi                shlex               winioctlcon\n",
      "argon2              jinja2              shutil              winnt\n",
      "argparse            json                signal              winperf\n",
      "array               json5               sip                 winpty\n",
      "ast                 jsonschema          sipconfig           winreg\n",
      "async_generator     jupyter             sipdistutils        winsound\n",
      "asynchat            jupyter_client      site                winxpgui\n",
      "asyncio             jupyter_core        six                 winxptheme\n",
      "asyncore            jupyter_server      smtpd               wsgiref\n",
      "atexit              jupyterlab          smtplib             xdrlib\n",
      "attr                jupyterlab_pygments sndhdr              xml\n",
      "audioop             jupyterlab_server   sniffio             xmlrpc\n",
      "autoreload          jupyterlab_widgets  socket              xmltodict\n",
      "babel               jwt                 socketserver        xxsubtype\n",
      "backcall            keyword             socks               yaml\n",
      "backports           lib2to3             sockshandler        zipapp\n",
      "base64              libfuturize         soupsieve           zipfile\n",
      "bdb                 libpasteurize       sqlite3             zipimport\n",
      "binascii            linecache           sre_compile         zipp\n",
      "binhex              locale              sre_constants       zlib\n",
      "binstar_client      logging             sre_parse           zmq\n",
      "bisect              lxml                ssl                 zoneinfo\n",
      "bleach              lzma                sspi                \n",
      "brotli              mailbox             sspicon             \n",
      "bs4                 mailcap             stat                \n",
      "\n",
      "Enter any module name to get more help.  Or, type \"modules spam\" to search\n",
      "for modules whose name or summary contain the string \"spam\".\n",
      "\n"
     ]
    },
    {
     "name": "stderr",
     "output_type": "stream",
     "text": [
      "C:\\Users\\pc\\anaconda3\\lib\\pkgutil.py:108: VisibleDeprecationWarning: zmq.eventloop.minitornado is deprecated in pyzmq 14.0 and will be removed.\n",
      "    Install tornado itself to use zmq with the tornado IOLoop.\n",
      "    \n",
      "  yield from walk_packages(path, info.name+'.', onerror)\n"
     ]
    }
   ],
   "source": [
    "help('modules')"
   ]
  },
  {
   "cell_type": "markdown",
   "id": "78138573",
   "metadata": {},
   "source": [
    "# Loops in Python"
   ]
  },
  {
   "cell_type": "markdown",
   "id": "094aaab0",
   "metadata": {},
   "source": [
    "- Need for Loops\n",
    "- While Loop\n",
    "- For Loop"
   ]
  },
  {
   "cell_type": "code",
   "execution_count": 22,
   "id": "3db401bd",
   "metadata": {},
   "outputs": [],
   "source": [
    "# It is used to repeat a particular operation(s) several times until a specific condition is met."
   ]
  },
  {
   "cell_type": "code",
   "execution_count": 23,
   "id": "bbf49bdb",
   "metadata": {},
   "outputs": [],
   "source": [
    "# While loop example -> program to print the table\n",
    "# Program -> Sum of all digits of a given number\n",
    "# Program -> keep accepting numbers from user till he/she enters a 0 then find the avg"
   ]
  },
  {
   "cell_type": "code",
   "execution_count": 24,
   "id": "c49e2433",
   "metadata": {},
   "outputs": [
    {
     "name": "stdout",
     "output_type": "stream",
     "text": [
      "enter the number: 12\n",
      "12 * 1 = 12\n",
      "12 * 2 = 24\n",
      "12 * 3 = 36\n",
      "12 * 4 = 48\n",
      "12 * 5 = 60\n",
      "12 * 6 = 72\n",
      "12 * 7 = 84\n",
      "12 * 8 = 96\n",
      "12 * 9 = 108\n",
      "12 * 10 = 120\n"
     ]
    }
   ],
   "source": [
    "number = int(input('enter the number: '))\n",
    "\n",
    "i = 1\n",
    "\n",
    "while i<11:\n",
    "    print(number, '*', i, '=', number * i)\n",
    "    i += 1"
   ]
  },
  {
   "cell_type": "code",
   "execution_count": 25,
   "id": "f6c011fc",
   "metadata": {},
   "outputs": [
    {
     "name": "stdout",
     "output_type": "stream",
     "text": [
      "1\n",
      "2\n",
      "limit crossed\n"
     ]
    }
   ],
   "source": [
    "# while loop with else\n",
    "\n",
    "x = 1\n",
    "\n",
    "while x < 3:\n",
    "    print(x)\n",
    "    x += 1\n",
    "\n",
    "else:\n",
    "    print('limit crossed')"
   ]
  },
  {
   "cell_type": "code",
   "execution_count": 26,
   "id": "62856a31",
   "metadata": {},
   "outputs": [
    {
     "name": "stdout",
     "output_type": "stream",
     "text": [
      "guess karo: 66\n",
      "galat! guess lower\n",
      "guess karo: 55\n",
      "correct guess\n",
      "attempts:  2\n"
     ]
    }
   ],
   "source": [
    "# Guessing game\n",
    "\n",
    "# generate a random integer between 1 and 100\n",
    "import random\n",
    "jackpot = random.randint(1, 100)\n",
    "\n",
    "guess = int(input('guess karo: '))\n",
    "\n",
    "counter = 1\n",
    "\n",
    "while guess != jackpot:\n",
    "    if guess < jackpot:\n",
    "        print('galat! guess higher')\n",
    "    else:\n",
    "        print('galat! guess lower')\n",
    "        \n",
    "    guess = int(input('guess karo: '))\n",
    "    counter += 1\n",
    "    \n",
    "else:\n",
    "    print('correct guess')\n",
    "    print('attempts: ', counter)"
   ]
  },
  {
   "cell_type": "code",
   "execution_count": 27,
   "id": "59ef28c0",
   "metadata": {},
   "outputs": [
    {
     "name": "stdout",
     "output_type": "stream",
     "text": [
      "1\n",
      "2\n",
      "3\n",
      "4\n",
      "5\n",
      "6\n",
      "7\n",
      "8\n",
      "9\n",
      "10\n"
     ]
    }
   ],
   "source": [
    "# For Loop demo\n",
    "\n",
    "for i in range (1, 11):\n",
    "    print(i)"
   ]
  },
  {
   "cell_type": "code",
   "execution_count": 28,
   "id": "365bbebb",
   "metadata": {},
   "outputs": [
    {
     "name": "stdout",
     "output_type": "stream",
     "text": [
      "1\n",
      "3\n",
      "5\n",
      "7\n",
      "9\n"
     ]
    }
   ],
   "source": [
    "for i in range (1, 11, 2):\n",
    "    print(i)"
   ]
  },
  {
   "cell_type": "code",
   "execution_count": 29,
   "id": "1a279fad",
   "metadata": {},
   "outputs": [
    {
     "name": "stdout",
     "output_type": "stream",
     "text": [
      "10\n",
      "9\n",
      "8\n",
      "7\n",
      "6\n",
      "5\n",
      "4\n",
      "3\n",
      "2\n",
      "1\n"
     ]
    }
   ],
   "source": [
    "for i in range (10, 0, -1):\n",
    "    print(i)"
   ]
  },
  {
   "cell_type": "code",
   "execution_count": 30,
   "id": "fb9056f3",
   "metadata": {},
   "outputs": [
    {
     "name": "stdout",
     "output_type": "stream",
     "text": [
      "S\n",
      "a\n",
      "u\n",
      "r\n",
      "a\n",
      "b\n",
      "h\n"
     ]
    }
   ],
   "source": [
    "for i in 'Saurabh':\n",
    "    print(i)"
   ]
  },
  {
   "cell_type": "code",
   "execution_count": 31,
   "id": "00666dc1",
   "metadata": {},
   "outputs": [],
   "source": [
    "# For Loop example\n",
    "\n",
    "# Program - The current population of a town 10000. The population of the town is increasing at the rate of 10% per year. \n",
    "#           You have to write a program to find out the population at the end of each of the last 10 year."
   ]
  },
  {
   "cell_type": "code",
   "execution_count": 32,
   "id": "56614f54",
   "metadata": {},
   "outputs": [
    {
     "name": "stdout",
     "output_type": "stream",
     "text": [
      "year:  10 -> population: 10000\n",
      "year:  9 -> population: 9000.0\n",
      "year:  8 -> population: 8100.0\n",
      "year:  7 -> population: 7290.0\n",
      "year:  6 -> population: 6561.0\n",
      "year:  5 -> population: 5904.9\n",
      "year:  4 -> population: 5314.41\n",
      "year:  3 -> population: 4782.969\n",
      "year:  2 -> population: 4304.6721\n",
      "year:  1 -> population: 3874.20489\n"
     ]
    }
   ],
   "source": [
    "curr_pop = 10000\n",
    "\n",
    "for i in range(10, 0, -1):\n",
    "    print('year: ', i, '->', 'population:', curr_pop)\n",
    "    curr_pop = curr_pop - 0.1 * curr_pop"
   ]
  }
 ],
 "metadata": {
  "kernelspec": {
   "display_name": "Python 3 (ipykernel)",
   "language": "python",
   "name": "python3"
  },
  "language_info": {
   "codemirror_mode": {
    "name": "ipython",
    "version": 3
   },
   "file_extension": ".py",
   "mimetype": "text/x-python",
   "name": "python",
   "nbconvert_exporter": "python",
   "pygments_lexer": "ipython3",
   "version": "3.9.7"
  }
 },
 "nbformat": 4,
 "nbformat_minor": 5
}
