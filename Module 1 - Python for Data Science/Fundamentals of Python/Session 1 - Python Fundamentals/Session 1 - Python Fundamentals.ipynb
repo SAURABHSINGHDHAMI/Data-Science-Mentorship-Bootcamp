{
 "cells": [
  {
   "cell_type": "markdown",
   "id": "72c7910c",
   "metadata": {},
   "source": [
    "# Why Python?"
   ]
  },
  {
   "cell_type": "markdown",
   "id": "e63742e4",
   "metadata": {},
   "source": [
    "1. Design Philosophy"
   ]
  },
  {
   "cell_type": "code",
   "execution_count": 1,
   "id": "3cd51b7b",
   "metadata": {},
   "outputs": [],
   "source": [
    "# easiest language to learn + well indented code, readability"
   ]
  },
  {
   "cell_type": "markdown",
   "id": "e39b969f",
   "metadata": {},
   "source": [
    "2. Batteries Included"
   ]
  },
  {
   "cell_type": "code",
   "execution_count": 2,
   "id": "d2f0173b",
   "metadata": {},
   "outputs": [],
   "source": [
    "# Python motto \"batteries included\" is meant to convey the idea that Python comes with everything you need."
   ]
  },
  {
   "cell_type": "markdown",
   "id": "c6f38695",
   "metadata": {},
   "source": [
    "3. General Purpose"
   ]
  },
  {
   "cell_type": "code",
   "execution_count": 3,
   "id": "6e18e826",
   "metadata": {},
   "outputs": [],
   "source": [
    "# Its designed to be used in a range of applications, including data science, software & web development, automation, & generally getting stuff done."
   ]
  },
  {
   "cell_type": "markdown",
   "id": "a6382537",
   "metadata": {},
   "source": [
    "4. Libraries/Community"
   ]
  },
  {
   "cell_type": "code",
   "execution_count": 4,
   "id": "d6d4889e",
   "metadata": {},
   "outputs": [],
   "source": [
    "# helpful community + so many libraries"
   ]
  },
  {
   "cell_type": "markdown",
   "id": "1efc03ec",
   "metadata": {},
   "source": [
    "# Why Python for Data Science?"
   ]
  },
  {
   "cell_type": "markdown",
   "id": "9266bc78",
   "metadata": {},
   "source": [
    "1. Easy to learn"
   ]
  },
  {
   "cell_type": "markdown",
   "id": "5c700bae",
   "metadata": {},
   "source": [
    "2. Proximity with Maths"
   ]
  },
  {
   "cell_type": "markdown",
   "id": "fa0eb681",
   "metadata": {},
   "source": [
    "3. Community"
   ]
  },
  {
   "cell_type": "markdown",
   "id": "6c0bee59",
   "metadata": {},
   "source": [
    "# 1. Python Output"
   ]
  },
  {
   "cell_type": "markdown",
   "id": "e741a9c3",
   "metadata": {},
   "source": [
    "# Hello World"
   ]
  },
  {
   "cell_type": "code",
   "execution_count": 5,
   "id": "29ce918a",
   "metadata": {},
   "outputs": [
    {
     "name": "stdout",
     "output_type": "stream",
     "text": [
      "Hello World\n"
     ]
    }
   ],
   "source": [
    "# Python is a case sensitive language\n",
    "\n",
    "print(\"Hello World\")"
   ]
  },
  {
   "cell_type": "code",
   "execution_count": 6,
   "id": "d2e17d0d",
   "metadata": {},
   "outputs": [
    {
     "name": "stdout",
     "output_type": "stream",
     "text": [
      "salman khan\n"
     ]
    }
   ],
   "source": [
    "print(\"salman khan\")"
   ]
  },
  {
   "cell_type": "code",
   "execution_count": 7,
   "id": "0ba9a9b0",
   "metadata": {},
   "outputs": [
    {
     "ename": "SyntaxError",
     "evalue": "invalid syntax (Temp/ipykernel_3712/1115953987.py, line 1)",
     "output_type": "error",
     "traceback": [
      "\u001b[1;36m  File \u001b[1;32m\"C:\\Users\\pc\\AppData\\Local\\Temp/ipykernel_3712/1115953987.py\"\u001b[1;36m, line \u001b[1;32m1\u001b[0m\n\u001b[1;33m    print(salman khan)\u001b[0m\n\u001b[1;37m                 ^\u001b[0m\n\u001b[1;31mSyntaxError\u001b[0m\u001b[1;31m:\u001b[0m invalid syntax\n"
     ]
    }
   ],
   "source": [
    "print(salman khan)"
   ]
  },
  {
   "cell_type": "code",
   "execution_count": 8,
   "id": "876737d3",
   "metadata": {},
   "outputs": [
    {
     "name": "stdout",
     "output_type": "stream",
     "text": [
      "7\n"
     ]
    }
   ],
   "source": [
    "print(7)"
   ]
  },
  {
   "cell_type": "code",
   "execution_count": 9,
   "id": "4160d5b9",
   "metadata": {},
   "outputs": [
    {
     "name": "stdout",
     "output_type": "stream",
     "text": [
      "7.7\n"
     ]
    }
   ],
   "source": [
    "print(7.7)"
   ]
  },
  {
   "cell_type": "code",
   "execution_count": 10,
   "id": "7460fb5e",
   "metadata": {},
   "outputs": [
    {
     "name": "stdout",
     "output_type": "stream",
     "text": [
      "True\n"
     ]
    }
   ],
   "source": [
    "print(True)"
   ]
  },
  {
   "cell_type": "code",
   "execution_count": 11,
   "id": "54de9c92",
   "metadata": {},
   "outputs": [
    {
     "name": "stdout",
     "output_type": "stream",
     "text": [
      "Hello 1 4.5 True\n"
     ]
    }
   ],
   "source": [
    "print(\"Hello\", 1, 4.5, True)"
   ]
  },
  {
   "cell_type": "code",
   "execution_count": 12,
   "id": "078b1a31",
   "metadata": {},
   "outputs": [
    {
     "name": "stdout",
     "output_type": "stream",
     "text": [
      "Hello/1/4.5/True\n"
     ]
    }
   ],
   "source": [
    "print(\"Hello\", 1, 4.5, True, sep = '/')"
   ]
  },
  {
   "cell_type": "code",
   "execution_count": 13,
   "id": "4b909324",
   "metadata": {},
   "outputs": [
    {
     "name": "stdout",
     "output_type": "stream",
     "text": [
      "hello\n",
      "world\n"
     ]
    }
   ],
   "source": [
    "print('hello')\n",
    "print('world')"
   ]
  },
  {
   "cell_type": "code",
   "execution_count": 14,
   "id": "42f56ba8",
   "metadata": {},
   "outputs": [
    {
     "name": "stdout",
     "output_type": "stream",
     "text": [
      "hello-world\n"
     ]
    }
   ],
   "source": [
    "print('hello', end = '-')\n",
    "print('world')"
   ]
  },
  {
   "cell_type": "markdown",
   "id": "36e165ad",
   "metadata": {},
   "source": [
    "# 2.  Data Types"
   ]
  },
  {
   "cell_type": "code",
   "execution_count": 15,
   "id": "7cb1418e",
   "metadata": {},
   "outputs": [
    {
     "name": "stdout",
     "output_type": "stream",
     "text": [
      "8\n",
      "1e+308\n"
     ]
    }
   ],
   "source": [
    "# Integer\n",
    "\n",
    "print(8)\n",
    "print(1e308) # 1*10**309"
   ]
  },
  {
   "cell_type": "code",
   "execution_count": 16,
   "id": "1c8cd910",
   "metadata": {},
   "outputs": [
    {
     "name": "stdout",
     "output_type": "stream",
     "text": [
      "inf\n"
     ]
    }
   ],
   "source": [
    "print(1e309)"
   ]
  },
  {
   "cell_type": "code",
   "execution_count": 17,
   "id": "aae02af1",
   "metadata": {},
   "outputs": [
    {
     "name": "stdout",
     "output_type": "stream",
     "text": [
      "8.55\n",
      "inf\n"
     ]
    }
   ],
   "source": [
    "# Decimal/Float\n",
    "\n",
    "print(8.55)\n",
    "print(1.7e309)"
   ]
  },
  {
   "cell_type": "code",
   "execution_count": 18,
   "id": "9eb2f585",
   "metadata": {},
   "outputs": [
    {
     "name": "stdout",
     "output_type": "stream",
     "text": [
      "True\n",
      "False\n"
     ]
    }
   ],
   "source": [
    "# Boolean\n",
    "\n",
    "print(True)\n",
    "print(False)"
   ]
  },
  {
   "cell_type": "code",
   "execution_count": 19,
   "id": "43304eb5",
   "metadata": {},
   "outputs": [
    {
     "name": "stdout",
     "output_type": "stream",
     "text": [
      "Hello World\n"
     ]
    }
   ],
   "source": [
    "# Text/String\n",
    "\n",
    "print(\"Hello World\")"
   ]
  },
  {
   "cell_type": "code",
   "execution_count": 20,
   "id": "5c3b506b",
   "metadata": {},
   "outputs": [
    {
     "name": "stdout",
     "output_type": "stream",
     "text": [
      "(5+6j)\n"
     ]
    }
   ],
   "source": [
    "# complex\n",
    "\n",
    "print(5+6j)"
   ]
  },
  {
   "cell_type": "code",
   "execution_count": 21,
   "id": "c043d50a",
   "metadata": {},
   "outputs": [
    {
     "name": "stdout",
     "output_type": "stream",
     "text": [
      "[1, 2, 3, 4, 5]\n"
     ]
    }
   ],
   "source": [
    "# List -> c -> Array\n",
    "\n",
    "print([1,2,3,4,5])"
   ]
  },
  {
   "cell_type": "code",
   "execution_count": 22,
   "id": "7ddb1444",
   "metadata": {},
   "outputs": [
    {
     "name": "stdout",
     "output_type": "stream",
     "text": [
      "(1, 2, 3, 4, 5)\n"
     ]
    }
   ],
   "source": [
    "# Tuple\n",
    "\n",
    "print((1,2,3,4,5))"
   ]
  },
  {
   "cell_type": "code",
   "execution_count": 23,
   "id": "f26928b0",
   "metadata": {},
   "outputs": [
    {
     "name": "stdout",
     "output_type": "stream",
     "text": [
      "{1, 2, 3, 4, 5}\n"
     ]
    }
   ],
   "source": [
    "# Sets\n",
    "\n",
    "print({1,2,3,4,5})"
   ]
  },
  {
   "cell_type": "code",
   "execution_count": 24,
   "id": "46310cb1",
   "metadata": {},
   "outputs": [
    {
     "name": "stdout",
     "output_type": "stream",
     "text": [
      "{'name': 'Saurabh', 'gender': 'Male', 'weight': 90}\n"
     ]
    }
   ],
   "source": [
    "# Dictionary\n",
    "\n",
    "print({\"name\" : \"Saurabh\", \"gender\" : \"Male\", \"weight\" : 90})"
   ]
  },
  {
   "cell_type": "code",
   "execution_count": null,
   "id": "04a82b95",
   "metadata": {},
   "outputs": [],
   "source": []
  },
  {
   "cell_type": "code",
   "execution_count": 25,
   "id": "632a2a45",
   "metadata": {},
   "outputs": [
    {
     "data": {
      "text/plain": [
       "str"
      ]
     },
     "execution_count": 25,
     "metadata": {},
     "output_type": "execute_result"
    }
   ],
   "source": [
    "# type\n",
    "\n",
    "type(\"hello world\")"
   ]
  },
  {
   "cell_type": "markdown",
   "id": "e020c6d1",
   "metadata": {},
   "source": [
    "# 3. Variables"
   ]
  },
  {
   "cell_type": "code",
   "execution_count": 26,
   "id": "24b3475f",
   "metadata": {},
   "outputs": [],
   "source": [
    "# variables are containers for storing data values."
   ]
  },
  {
   "cell_type": "code",
   "execution_count": null,
   "id": "01b20530",
   "metadata": {},
   "outputs": [],
   "source": [
    "# C/C++\n",
    "\n",
    "int name = \"saurabh\"\n",
    "\n",
    "# Python\n",
    "\n",
    "name = \"saurabh\"\n",
    "print(name)"
   ]
  },
  {
   "cell_type": "code",
   "execution_count": 29,
   "id": "26ac6255",
   "metadata": {},
   "outputs": [
    {
     "name": "stdout",
     "output_type": "stream",
     "text": [
      "11\n"
     ]
    }
   ],
   "source": [
    "a = 5\n",
    "b = 6\n",
    "print(a + b)"
   ]
  },
  {
   "cell_type": "markdown",
   "id": "ea67c07d",
   "metadata": {},
   "source": [
    "#### Static Vs Dynamic Typing"
   ]
  },
  {
   "cell_type": "code",
   "execution_count": null,
   "id": "2cff04d5",
   "metadata": {},
   "outputs": [],
   "source": [
    "# Dynamic Typing\n",
    "\n",
    "# Python is a dynamically typed language. It doesn’t know about the type of the variable until the code is run. So declaration is of no use.\n",
    "# i.e we don't need to tell the type of data to the program.\n",
    "\n",
    "a = 5\n",
    "\n",
    "# Static Typing\n",
    "\n",
    "# eg- in C/C++\n",
    "\n",
    "int a = 5"
   ]
  },
  {
   "cell_type": "markdown",
   "id": "f1cd1d0b",
   "metadata": {},
   "source": [
    "#### Static Vs Dynamic Binding"
   ]
  },
  {
   "cell_type": "code",
   "execution_count": null,
   "id": "3a698fa4",
   "metadata": {},
   "outputs": [],
   "source": [
    "# Dynamic Binding\n",
    "\n",
    "# a variable in python is not restricted to a fixed data type, can hold any type of data type in the same program.\n",
    "# i.e data type and variable name is not attached, we can have different data types in a single variable in the same program.\n",
    "\n",
    "a = 5\n",
    "print(a)\n",
    "a = 'saurabh'\n",
    "print(a)\n",
    "\n",
    "# Static Binding - eg. in C/C++\n",
    "\n",
    "int a = 5"
   ]
  },
  {
   "cell_type": "markdown",
   "id": "67f291a2",
   "metadata": {},
   "source": [
    "#### stylish declaration techniques"
   ]
  },
  {
   "cell_type": "code",
   "execution_count": 30,
   "id": "69096c09",
   "metadata": {},
   "outputs": [
    {
     "name": "stdout",
     "output_type": "stream",
     "text": [
      "1 2 3\n"
     ]
    }
   ],
   "source": [
    "a = 1\n",
    "b = 2\n",
    "c = 3\n",
    "print(a, b, c)"
   ]
  },
  {
   "cell_type": "code",
   "execution_count": 31,
   "id": "0614c639",
   "metadata": {},
   "outputs": [
    {
     "name": "stdout",
     "output_type": "stream",
     "text": [
      "1 2 3\n"
     ]
    }
   ],
   "source": [
    "a,b,c = 1,2,3\n",
    "print(a,b,c)"
   ]
  },
  {
   "cell_type": "code",
   "execution_count": 32,
   "id": "6c82d79a",
   "metadata": {},
   "outputs": [
    {
     "name": "stdout",
     "output_type": "stream",
     "text": [
      "5 5 5\n"
     ]
    }
   ],
   "source": [
    "a = b = c = 5\n",
    "print(a,b,c)"
   ]
  },
  {
   "cell_type": "markdown",
   "id": "7f6470ec",
   "metadata": {},
   "source": [
    "# 4. Comments"
   ]
  },
  {
   "cell_type": "code",
   "execution_count": 33,
   "id": "42b304b7",
   "metadata": {},
   "outputs": [
    {
     "name": "stdout",
     "output_type": "stream",
     "text": [
      "10\n"
     ]
    }
   ],
   "source": [
    "# this is a comment\n",
    "\n",
    "a = 4\n",
    "b = 6\n",
    "\n",
    "# lets add a and b\n",
    "\n",
    "print(a + b) # to print the output"
   ]
  },
  {
   "cell_type": "markdown",
   "id": "52adabcb",
   "metadata": {},
   "source": [
    "# 4. Keywords and Identifiers"
   ]
  },
  {
   "cell_type": "code",
   "execution_count": 34,
   "id": "e072d0f8",
   "metadata": {},
   "outputs": [],
   "source": [
    "# Compiled Vs Interpreted\n",
    "\n",
    "# Compiled languages are converted directly into machine code that the processor can execute.\n",
    "# As a result, they tend to be faster and more efficient to execute than interpreted languages.\n",
    "# They also give the developer more control over hardware aspects, like memory management and CPU usage.\n",
    "\n",
    "# Interpreters run through a program line by line and execute each command.\n",
    "# Here, if the author decides he wants to use a different kind of olive oil, he could scratch the old one out and add the new one.\n",
    "# Your translator friend can then convey that change to you as it happens."
   ]
  },
  {
   "cell_type": "code",
   "execution_count": 35,
   "id": "8c39df44",
   "metadata": {},
   "outputs": [],
   "source": [
    "# Keywords in Python are reserved words that can not be used as a variable name, function name, or any other identifier."
   ]
  },
  {
   "cell_type": "code",
   "execution_count": 36,
   "id": "ea4f78b7",
   "metadata": {},
   "outputs": [
    {
     "name": "stdout",
     "output_type": "stream",
     "text": [
      "Saurabh\n",
      "Saurabh\n"
     ]
    }
   ],
   "source": [
    "# Identifier is a name used to identify a variable, function, class, module, etc.\n",
    "\n",
    "# Rule - \n",
    "# You can't start with a digit\n",
    "name1 = 'Saurabh'\n",
    "print(name1)\n",
    "# You can only use special char -> _\n",
    "_ = 'Saurabh'\n",
    "print(_)\n",
    "# identifiers can not be keywords"
   ]
  },
  {
   "cell_type": "markdown",
   "id": "02b0c225",
   "metadata": {},
   "source": [
    "# 5. User Input"
   ]
  },
  {
   "cell_type": "code",
   "execution_count": 37,
   "id": "cacb9dd6",
   "metadata": {},
   "outputs": [],
   "source": [
    "# Static Vs Dynamic\n",
    "\n",
    "# Static Software do not interact with the user, can only be used to give information to the user\n",
    "\n",
    "# Dynamic Software are user interactive, can take user input."
   ]
  },
  {
   "cell_type": "code",
   "execution_count": 38,
   "id": "98de387c",
   "metadata": {},
   "outputs": [
    {
     "name": "stdout",
     "output_type": "stream",
     "text": [
      "Apna naam bata: Saurabh\n"
     ]
    },
    {
     "data": {
      "text/plain": [
       "'Saurabh'"
      ]
     },
     "execution_count": 38,
     "metadata": {},
     "output_type": "execute_result"
    }
   ],
   "source": [
    "input('Apna naam bata: ')"
   ]
  },
  {
   "cell_type": "code",
   "execution_count": 39,
   "id": "077d99e8",
   "metadata": {},
   "outputs": [
    {
     "name": "stdout",
     "output_type": "stream",
     "text": [
      "enter first number: 46\n",
      "enter second number: 54\n",
      "<class 'str'> <class 'str'>\n",
      "4654\n"
     ]
    }
   ],
   "source": [
    "# take input from user and store them in a variable\n",
    "\n",
    "fnum = input('enter first number: ')\n",
    "snum = input('enter second number: ')\n",
    "\n",
    "print(type(fnum), type(snum))\n",
    "\n",
    "# add the 2 variables\n",
    "\n",
    "result = fnum + snum\n",
    "\n",
    "# print the result\n",
    "\n",
    "print(result)\n",
    "\n",
    "# Note: while taking input, why python automatically store it in a string format?\n",
    "# -> because string is a universal data format, other data types can be stored in a string."
   ]
  },
  {
   "cell_type": "markdown",
   "id": "f82a981f",
   "metadata": {},
   "source": [
    "# 6. Type Conversion"
   ]
  },
  {
   "cell_type": "code",
   "execution_count": 43,
   "id": "5de552d8",
   "metadata": {},
   "outputs": [],
   "source": [
    "# convert one data type to another"
   ]
  },
  {
   "cell_type": "code",
   "execution_count": 44,
   "id": "82e14262",
   "metadata": {},
   "outputs": [],
   "source": [
    "# Implicit Vs Explicit\n",
    "\n",
    "# Implicit Type Conversion: Python automatically converts one data type to another.\n",
    "\n",
    "# Explicit Type Conversion: users convert the data type of an object to required data type.\n",
    "# We use the built-in functions like int(), float(), str(), etc to perform explicit type conversion.\n",
    "# This type of conversion is also called typecasting because the user casts (changes) the data type of the objects."
   ]
  },
  {
   "cell_type": "code",
   "execution_count": 45,
   "id": "fca4b428",
   "metadata": {},
   "outputs": [
    {
     "name": "stdout",
     "output_type": "stream",
     "text": [
      "10.6\n",
      "<class 'int'> <class 'float'>\n"
     ]
    }
   ],
   "source": [
    "# implicit type conversion\n",
    "\n",
    "print(5 + 5.6)\n",
    "print(type(5), type(5.6))"
   ]
  },
  {
   "cell_type": "code",
   "execution_count": 46,
   "id": "39f43f26",
   "metadata": {},
   "outputs": [
    {
     "ename": "TypeError",
     "evalue": "unsupported operand type(s) for +: 'int' and 'str'",
     "output_type": "error",
     "traceback": [
      "\u001b[1;31m---------------------------------------------------------------------------\u001b[0m",
      "\u001b[1;31mTypeError\u001b[0m                                 Traceback (most recent call last)",
      "\u001b[1;32m~\\AppData\\Local\\Temp/ipykernel_3712/2065475997.py\u001b[0m in \u001b[0;36m<module>\u001b[1;34m\u001b[0m\n\u001b[1;32m----> 1\u001b[1;33m \u001b[0mprint\u001b[0m\u001b[1;33m(\u001b[0m\u001b[1;36m4\u001b[0m \u001b[1;33m+\u001b[0m \u001b[1;34m'4'\u001b[0m\u001b[1;33m)\u001b[0m\u001b[1;33m\u001b[0m\u001b[1;33m\u001b[0m\u001b[0m\n\u001b[0m",
      "\u001b[1;31mTypeError\u001b[0m: unsupported operand type(s) for +: 'int' and 'str'"
     ]
    }
   ],
   "source": [
    "print(4 + '4')"
   ]
  },
  {
   "cell_type": "code",
   "execution_count": 47,
   "id": "eefd1e76",
   "metadata": {},
   "outputs": [
    {
     "data": {
      "text/plain": [
       "int"
      ]
     },
     "execution_count": 47,
     "metadata": {},
     "output_type": "execute_result"
    }
   ],
   "source": [
    "# explicit type conversion\n",
    "\n",
    "# str -> int\n",
    "\n",
    "type(int('4'))"
   ]
  },
  {
   "cell_type": "code",
   "execution_count": 48,
   "id": "bcdf0a8a",
   "metadata": {},
   "outputs": [
    {
     "ename": "TypeError",
     "evalue": "can't convert complex to int",
     "output_type": "error",
     "traceback": [
      "\u001b[1;31m---------------------------------------------------------------------------\u001b[0m",
      "\u001b[1;31mTypeError\u001b[0m                                 Traceback (most recent call last)",
      "\u001b[1;32m~\\AppData\\Local\\Temp/ipykernel_3712/2467687957.py\u001b[0m in \u001b[0;36m<module>\u001b[1;34m\u001b[0m\n\u001b[1;32m----> 1\u001b[1;33m \u001b[0mint\u001b[0m\u001b[1;33m(\u001b[0m\u001b[1;36m4\u001b[0m \u001b[1;33m+\u001b[0m \u001b[1;36m5j\u001b[0m\u001b[1;33m)\u001b[0m \u001b[1;31m# not logically possible\u001b[0m\u001b[1;33m\u001b[0m\u001b[1;33m\u001b[0m\u001b[0m\n\u001b[0m",
      "\u001b[1;31mTypeError\u001b[0m: can't convert complex to int"
     ]
    }
   ],
   "source": [
    "int(4 + 5j) # not logically possible"
   ]
  },
  {
   "cell_type": "code",
   "execution_count": 49,
   "id": "60196a05",
   "metadata": {},
   "outputs": [
    {
     "data": {
      "text/plain": [
       "'5'"
      ]
     },
     "execution_count": 49,
     "metadata": {},
     "output_type": "execute_result"
    }
   ],
   "source": [
    "# int -> str\n",
    "\n",
    "str(5)"
   ]
  },
  {
   "cell_type": "code",
   "execution_count": 50,
   "id": "de6a441f",
   "metadata": {},
   "outputs": [
    {
     "data": {
      "text/plain": [
       "4.0"
      ]
     },
     "execution_count": 50,
     "metadata": {},
     "output_type": "execute_result"
    }
   ],
   "source": [
    "# int -> float\n",
    "\n",
    "float(4)"
   ]
  },
  {
   "cell_type": "code",
   "execution_count": 51,
   "id": "cc59d343",
   "metadata": {},
   "outputs": [
    {
     "name": "stdout",
     "output_type": "stream",
     "text": [
      "enter first number: 46\n",
      "enter second number: 54\n",
      "100\n"
     ]
    }
   ],
   "source": [
    "fnum = input('enter first number: ')\n",
    "snum = input('enter second number: ')\n",
    "\n",
    "result = int(fnum) + int(snum)\n",
    "\n",
    "print(result)"
   ]
  },
  {
   "cell_type": "code",
   "execution_count": 52,
   "id": "8e3cf825",
   "metadata": {},
   "outputs": [
    {
     "name": "stdout",
     "output_type": "stream",
     "text": [
      "<class 'str'>\n"
     ]
    }
   ],
   "source": [
    "print(type(fnum)) # type conversion doesn't changes the original data, but creates a new value in the memory, & we work on that new created value."
   ]
  },
  {
   "cell_type": "code",
   "execution_count": 53,
   "id": "46b69611",
   "metadata": {},
   "outputs": [
    {
     "name": "stdout",
     "output_type": "stream",
     "text": [
      "enter first number: 46\n",
      "enter second number: 54\n",
      "100\n"
     ]
    }
   ],
   "source": [
    "fnum = int(input('enter first number: '))\n",
    "snum = int(input('enter second number: '))\n",
    "\n",
    "result = fnum + snum\n",
    "\n",
    "print(result)"
   ]
  },
  {
   "cell_type": "code",
   "execution_count": 54,
   "id": "2022a1b1",
   "metadata": {},
   "outputs": [
    {
     "name": "stdout",
     "output_type": "stream",
     "text": [
      "<class 'int'>\n"
     ]
    }
   ],
   "source": [
    "print(type(fnum)) # because value get stored after type conversion"
   ]
  },
  {
   "cell_type": "markdown",
   "id": "2d37c384",
   "metadata": {},
   "source": [
    "# 7. Literals"
   ]
  },
  {
   "cell_type": "code",
   "execution_count": 55,
   "id": "8b49bd76",
   "metadata": {},
   "outputs": [],
   "source": [
    "# data that is given in a variable or constant."
   ]
  },
  {
   "cell_type": "code",
   "execution_count": 56,
   "id": "248c0c8b",
   "metadata": {},
   "outputs": [
    {
     "name": "stdout",
     "output_type": "stream",
     "text": [
      "10 100 200 300\n",
      "10.5 150.0 0.0015\n",
      "3.14j 3.14 0.0\n"
     ]
    }
   ],
   "source": [
    "a = 0b1010 # Binary Literals\n",
    "b = 100 # Decimal Literals\n",
    "c = 0o310 # Octal Literals\n",
    "d = 0x12c # Hexadecimal Literals\n",
    "\n",
    "# Float Literal\n",
    "float_1 = 10.5\n",
    "float_2 = 1.5e2 # 1.5 * 10**2\n",
    "float_3 = 1.5e-3 # 1.5 * 10**-3\n",
    "\n",
    "# Complex Literal\n",
    "x = 3.14j\n",
    "\n",
    "print(a, b, c, d)\n",
    "print(float_1, float_2, float_3)\n",
    "print(x, x.imag, x.real)"
   ]
  },
  {
   "cell_type": "code",
   "execution_count": 57,
   "id": "589498e6",
   "metadata": {},
   "outputs": [
    {
     "name": "stdout",
     "output_type": "stream",
     "text": [
      "This is Python\n",
      "This is Python\n",
      "C\n",
      "This is a multiline string with more than one line code.\n",
      "😀😆🤣\n",
      "raw \\n string\n"
     ]
    }
   ],
   "source": [
    "string = 'This is Python'\n",
    "strings = \"This is Python\"\n",
    "char = \"C\"\n",
    "multiline_str = \"\"\"This is a multiline string with more than one line code.\"\"\"\n",
    "unicode = u\"\\U0001f600\\U0001f606\\U0001f923\"\n",
    "raw_str = r\"raw \\n string\"\n",
    "\n",
    "print(string)\n",
    "print(strings)\n",
    "print(char)\n",
    "print(multiline_str)\n",
    "print(unicode)\n",
    "print(raw_str)"
   ]
  },
  {
   "cell_type": "code",
   "execution_count": 58,
   "id": "a468c3c1",
   "metadata": {},
   "outputs": [
    {
     "name": "stdout",
     "output_type": "stream",
     "text": [
      "a:  5\n",
      "b:  10\n"
     ]
    }
   ],
   "source": [
    "a = True + 4\n",
    "b = False + 10\n",
    "\n",
    "print(\"a: \", a)\n",
    "print(\"b: \", b)"
   ]
  },
  {
   "cell_type": "code",
   "execution_count": 59,
   "id": "82c95b84",
   "metadata": {},
   "outputs": [
    {
     "name": "stdout",
     "output_type": "stream",
     "text": [
      "None\n"
     ]
    }
   ],
   "source": [
    "a = None # null value\n",
    "print(a)"
   ]
  }
 ],
 "metadata": {
  "kernelspec": {
   "display_name": "Python 3 (ipykernel)",
   "language": "python",
   "name": "python3"
  },
  "language_info": {
   "codemirror_mode": {
    "name": "ipython",
    "version": 3
   },
   "file_extension": ".py",
   "mimetype": "text/x-python",
   "name": "python",
   "nbconvert_exporter": "python",
   "pygments_lexer": "ipython3",
   "version": "3.9.7"
  }
 },
 "nbformat": 4,
 "nbformat_minor": 5
}
